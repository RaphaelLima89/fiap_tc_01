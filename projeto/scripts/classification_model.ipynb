{
 "cells": [
  {
   "cell_type": "markdown",
   "id": "74d66c85",
   "metadata": {},
   "source": [
    "# Desenvolvimento de um modelo de regressão logística para testar o retorno na API\n",
    "Este notebook faz uma breve análise e apresenta uma proposta de modelo de classificação para o conjunto de dados obtidos do site **https://books.toscrape.com/**.\n",
    "A proposta é tentar prever a **categoria de um livro**, baseado as nas varíaveis preço, disponibilidade e quantidade de estrelas."
   ]
  },
  {
   "cell_type": "markdown",
   "id": "aa58f6c1",
   "metadata": {
    "vscode": {
     "languageId": "plaintext"
    }
   },
   "source": [
    "## 1 - Carregamento dos dados"
   ]
  },
  {
   "cell_type": "code",
   "execution_count": 12,
   "id": "a0673814",
   "metadata": {},
   "outputs": [
    {
     "data": {
      "application/vnd.microsoft.datawrangler.viewer.v0+json": {
       "columns": [
        {
         "name": "index",
         "rawType": "int64",
         "type": "integer"
        },
        {
         "name": "id",
         "rawType": "int64",
         "type": "integer"
        },
        {
         "name": "categoria",
         "rawType": "object",
         "type": "string"
        },
        {
         "name": "url_categoria",
         "rawType": "object",
         "type": "string"
        },
        {
         "name": "titulo",
         "rawType": "object",
         "type": "string"
        },
        {
         "name": "link_livro",
         "rawType": "object",
         "type": "string"
        },
        {
         "name": "url_imagem",
         "rawType": "object",
         "type": "string"
        },
        {
         "name": "descricao_produto",
         "rawType": "object",
         "type": "string"
        },
        {
         "name": "qtde_estrelas",
         "rawType": "int64",
         "type": "integer"
        },
        {
         "name": "upc",
         "rawType": "object",
         "type": "string"
        },
        {
         "name": "tipo_produto",
         "rawType": "object",
         "type": "string"
        },
        {
         "name": "moeda",
         "rawType": "object",
         "type": "string"
        },
        {
         "name": "preco_excl_tax",
         "rawType": "float64",
         "type": "float"
        },
        {
         "name": "preco_incl_tax",
         "rawType": "float64",
         "type": "float"
        },
        {
         "name": "imposto",
         "rawType": "float64",
         "type": "float"
        },
        {
         "name": "disponibilidade_produto",
         "rawType": "int64",
         "type": "integer"
        },
        {
         "name": "numero_de_reviews",
         "rawType": "int64",
         "type": "integer"
        }
       ],
       "ref": "988d1ee5-c93d-4bab-8305-863c985eeb30",
       "rows": [
        [
         "0",
         "0",
         "Travel",
         "https://books.toscrape.com/catalogue/category/books/travel_2/index.html",
         "It's Only the Himalayas",
         "https://books.toscrape.com/catalogue/its-only-the-himalayas_981/index.html",
         "https://books.toscrape.com/media/cache/6d/41/6d418a73cc7d4ecfd75ca11d854041db.jpg",
         "“Wherever you go, whatever you do, just . . . don’t do anything stupid.” —My MotherDuring her yearlong adventure backpacking from South Africa to Singapore, S. Bedford definitely did a few things her mother might classify as \"stupid.\" She swam with great white sharks in South Africa, ran from lions in Zimbabwe, climbed a Himalayan mountain without training in Nepal, and wa “Wherever you go, whatever you do, just . . . don’t do anything stupid.” —My MotherDuring her yearlong adventure backpacking from South Africa to Singapore, S. Bedford definitely did a few things her mother might classify as \"stupid.\" She swam with great white sharks in South Africa, ran from lions in Zimbabwe, climbed a Himalayan mountain without training in Nepal, and watched as her friend was attacked by a monkey in Indonesia.But interspersed in those slightly more crazy moments, Sue Bedfored and her friend \"Sara the Stoic\" experienced the sights, sounds, life, and culture of fifteen countries. Joined along the way by a few friends and their aging fathers here and there, Sue and Sara experience the trip of a lifetime. They fall in love with the world, cultivate an appreciation for home, and discover who, or what, they want to become.It's Only the Himalayas is the incredibly funny, sometimes outlandish, always entertaining confession of a young backpacker that will inspire you to take your own adventure. ...more",
         "2",
         "a22124811bfa8350",
         "Books",
         "£",
         "45.17",
         "45.17",
         "0.0",
         "19",
         "0"
        ],
        [
         "1",
         "1",
         "Travel",
         "https://books.toscrape.com/catalogue/category/books/travel_2/index.html",
         "Full Moon over Noah’s Ark: An Odyssey to Mount Ararat and Beyond",
         "https://books.toscrape.com/catalogue/full-moon-over-noahs-ark-an-odyssey-to-mount-ararat-and-beyond_811/index.html",
         "https://books.toscrape.com/media/cache/fe/8a/fe8af6ceec7718986380c0fde9b3b34f.jpg",
         "Acclaimed travel writer Rick Antonson sets his adventurous compass on Mount Ararat, exploring the region’s long history, religious mysteries, and complex politics.Mount Ararat is the most fabled mountain in the world. For millennia this massif in eastern Turkey has been rumored as the resting place of Noah’s Ark following the Great Flood. But it also plays a significant ro Acclaimed travel writer Rick Antonson sets his adventurous compass on Mount Ararat, exploring the region’s long history, religious mysteries, and complex politics.Mount Ararat is the most fabled mountain in the world. For millennia this massif in eastern Turkey has been rumored as the resting place of Noah’s Ark following the Great Flood. But it also plays a significant role in the longstanding conflict between Turkey and Armenia.Author Rick Antonson joined a five-member expedition to the mountain’s nearly 17,000-foot summit, trekking alongside a contingent of Armenians, for whom Mount Ararat is the stolen symbol of their country. Antonson weaves vivid historical anecdote with unexpected travel vignettes, whether tracing earlier mountaineering attempts on the peak, recounting the genocide of Armenians and its unresolved debate, or depicting the Kurds’ ambitions for their own nation’s borders, which some say should include Mount Ararat.What unfolds in Full Moon Over Noah’s Ark is one man’s odyssey, a tale told through many stories. Starting with the flooding of the Black Sea in 5600 BCE, through to the Epic of Gilgamesh and the contrasting narratives of the Great Flood known to followers of the Judaic, Christian and Islamic religions, Full Moon Over Noah’s Ark takes readers along with Antonson through the shadows and broad landscapes of Turkey, Iraq, Iran and Armenia, shedding light on a troubled but fascinating area of the world. ...more",
         "4",
         "ce60436f52c5ee68",
         "Books",
         "£",
         "49.43",
         "49.43",
         "0.0",
         "15",
         "0"
        ],
        [
         "2",
         "2",
         "Travel",
         "https://books.toscrape.com/catalogue/category/books/travel_2/index.html",
         "See America: A Celebration of Our National Parks & Treasured Sites",
         "https://books.toscrape.com/catalogue/see-america-a-celebration-of-our-national-parks-treasured-sites_732/index.html",
         "https://books.toscrape.com/media/cache/c7/1a/c71a85dbf8c2dbc75cb271026618477c.jpg",
         "To coincide with the 2016 centennial anniversary of the National Parks Service, the Creative Action Network has partnered with the National Parks Conservation Association to revive and reimagine the legacy of WPA travel posters. Artists from all over the world have participated in the creation of this new, crowdsourced collection of See America posters for a modern era. Fe To coincide with the 2016 centennial anniversary of the National Parks Service, the Creative Action Network has partnered with the National Parks Conservation Association to revive and reimagine the legacy of WPA travel posters. Artists from all over the world have participated in the creation of this new, crowdsourced collection of See America posters for a modern era. Featuring artwork for 75 national parks and monuments across all 50 states, this engaging keepsake volume celebrates the full range of our nation's landmarks and treasured wilderness. ...more",
         "3",
         "f9705c362f070608",
         "Books",
         "£",
         "48.87",
         "48.87",
         "0.0",
         "14",
         "0"
        ],
        [
         "3",
         "3",
         "Travel",
         "https://books.toscrape.com/catalogue/category/books/travel_2/index.html",
         "Vagabonding: An Uncommon Guide to the Art of Long-Term World Travel",
         "https://books.toscrape.com/catalogue/vagabonding-an-uncommon-guide-to-the-art-of-long-term-world-travel_552/index.html",
         "https://books.toscrape.com/media/cache/ca/30/ca30b1afe1e76ce7ba1db8176d398e53.jpg",
         "With a new foreword by Tim Ferriss •There’s nothing like vagabonding: taking time off from your normal life—from six weeks to four months to two years—to discover and experience the world on your own terms. In this one-of-a-kind handbook, veteran travel writer Rolf Potts explains how anyone armed with an independent spirit can achieve the dream of extended overseas travel. With a new foreword by Tim Ferriss • There’s nothing like vagabonding: taking time off from your normal life—from six weeks to four months to two years—to discover and experience the world on your own terms. In this one-of-a-kind handbook, veteran travel writer Rolf Potts explains how anyone armed with an independent spirit can achieve the dream of extended overseas travel. Now completely revised and updated, Vagabonding is an accessible and inspiring guide to   • financing your travel time • determining your destination • adjusting to life on the road • working and volunteering overseas • handling travel adversity • re-assimilating back into ordinary life  Praise for Vagabonding  “A crucial reference for any budget wanderer.”—Time  “Vagabonding easily remains in my top-10 list of life-changing books. Why? Because one incredible trip, especially a long-term trip, can change your life forever. And Vagabonding teaches you how to travel (and think), not just for one trip, but for the rest of your life.”—Tim Ferriss, from the foreword   “The book is a meditation on the joys of hitting the road. . . . It’s also a primer for those with a case of pent-up wanderlust seeking to live the dream.”—USA Today   “I couldn’t put this book down. It’s a whole different ethic of travel. . . . [Potts’s] practical advice might just convince you to enjoy that open-ended trip of a lifetime.”—Rick Steves   “Potts wants us to wander, to explore, to embrace the unknown, and, finally, to take our own damn time about it. I think this is the most sensible book of travel-related advice ever written.”—Tim Cahill, founding editor of Outside ...more",
         "2",
         "1809259a5a5f1d8d",
         "Books",
         "£",
         "36.94",
         "36.94",
         "0.0",
         "8",
         "0"
        ],
        [
         "4",
         "4",
         "Travel",
         "https://books.toscrape.com/catalogue/category/books/travel_2/index.html",
         "Under the Tuscan Sun",
         "https://books.toscrape.com/catalogue/under-the-tuscan-sun_504/index.html",
         "https://books.toscrape.com/media/cache/45/21/4521c581ba727f5c835e34860cbf53e5.jpg",
         "A CLASSIC FROM THE BESTSELLING AUTHOR OF UNDER MAGNOLIAFrances Mayes—widely published poet, gourmet cook, and travel writer—opens the door to a wondrous new world when she buys and restores an abandoned villa in the spectacular Tuscan countryside. In evocative language, she brings the reader along as she discovers the beauty and simplicity of life in Italy. Mayes also crea A CLASSIC FROM THE BESTSELLING AUTHOR OF UNDER MAGNOLIAFrances Mayes—widely published poet, gourmet cook, and travel writer—opens the door to a wondrous new world when she buys and restores an abandoned villa in the spectacular Tuscan countryside. In evocative language, she brings the reader along as she discovers the beauty and simplicity of life in Italy. Mayes also creates dozens of delicious seasonal recipes from her traditional kitchen and simple garden, all of which she includes in the book. Doing for Tuscany what M.F.K. Fisher and Peter Mayle did for Provence, Mayes writes about the tastes and pleasures of a foreign country with gusto and passion. ...more",
         "3",
         "a94350ee74deaa07",
         "Books",
         "£",
         "37.33",
         "37.33",
         "0.0",
         "7",
         "0"
        ]
       ],
       "shape": {
        "columns": 16,
        "rows": 5
       }
      },
      "text/html": [
       "<div>\n",
       "<style scoped>\n",
       "    .dataframe tbody tr th:only-of-type {\n",
       "        vertical-align: middle;\n",
       "    }\n",
       "\n",
       "    .dataframe tbody tr th {\n",
       "        vertical-align: top;\n",
       "    }\n",
       "\n",
       "    .dataframe thead th {\n",
       "        text-align: right;\n",
       "    }\n",
       "</style>\n",
       "<table border=\"1\" class=\"dataframe\">\n",
       "  <thead>\n",
       "    <tr style=\"text-align: right;\">\n",
       "      <th></th>\n",
       "      <th>id</th>\n",
       "      <th>categoria</th>\n",
       "      <th>url_categoria</th>\n",
       "      <th>titulo</th>\n",
       "      <th>link_livro</th>\n",
       "      <th>url_imagem</th>\n",
       "      <th>descricao_produto</th>\n",
       "      <th>qtde_estrelas</th>\n",
       "      <th>upc</th>\n",
       "      <th>tipo_produto</th>\n",
       "      <th>moeda</th>\n",
       "      <th>preco_excl_tax</th>\n",
       "      <th>preco_incl_tax</th>\n",
       "      <th>imposto</th>\n",
       "      <th>disponibilidade_produto</th>\n",
       "      <th>numero_de_reviews</th>\n",
       "    </tr>\n",
       "  </thead>\n",
       "  <tbody>\n",
       "    <tr>\n",
       "      <th>0</th>\n",
       "      <td>0</td>\n",
       "      <td>Travel</td>\n",
       "      <td>https://books.toscrape.com/catalogue/category/...</td>\n",
       "      <td>It's Only the Himalayas</td>\n",
       "      <td>https://books.toscrape.com/catalogue/its-only-...</td>\n",
       "      <td>https://books.toscrape.com/media/cache/6d/41/6...</td>\n",
       "      <td>“Wherever you go, whatever you do, just . . . ...</td>\n",
       "      <td>2</td>\n",
       "      <td>a22124811bfa8350</td>\n",
       "      <td>Books</td>\n",
       "      <td>£</td>\n",
       "      <td>45.17</td>\n",
       "      <td>45.17</td>\n",
       "      <td>0.0</td>\n",
       "      <td>19</td>\n",
       "      <td>0</td>\n",
       "    </tr>\n",
       "    <tr>\n",
       "      <th>1</th>\n",
       "      <td>1</td>\n",
       "      <td>Travel</td>\n",
       "      <td>https://books.toscrape.com/catalogue/category/...</td>\n",
       "      <td>Full Moon over Noah’s Ark: An Odyssey to Mount...</td>\n",
       "      <td>https://books.toscrape.com/catalogue/full-moon...</td>\n",
       "      <td>https://books.toscrape.com/media/cache/fe/8a/f...</td>\n",
       "      <td>Acclaimed travel writer Rick Antonson sets his...</td>\n",
       "      <td>4</td>\n",
       "      <td>ce60436f52c5ee68</td>\n",
       "      <td>Books</td>\n",
       "      <td>£</td>\n",
       "      <td>49.43</td>\n",
       "      <td>49.43</td>\n",
       "      <td>0.0</td>\n",
       "      <td>15</td>\n",
       "      <td>0</td>\n",
       "    </tr>\n",
       "    <tr>\n",
       "      <th>2</th>\n",
       "      <td>2</td>\n",
       "      <td>Travel</td>\n",
       "      <td>https://books.toscrape.com/catalogue/category/...</td>\n",
       "      <td>See America: A Celebration of Our National Par...</td>\n",
       "      <td>https://books.toscrape.com/catalogue/see-ameri...</td>\n",
       "      <td>https://books.toscrape.com/media/cache/c7/1a/c...</td>\n",
       "      <td>To coincide with the 2016 centennial anniversa...</td>\n",
       "      <td>3</td>\n",
       "      <td>f9705c362f070608</td>\n",
       "      <td>Books</td>\n",
       "      <td>£</td>\n",
       "      <td>48.87</td>\n",
       "      <td>48.87</td>\n",
       "      <td>0.0</td>\n",
       "      <td>14</td>\n",
       "      <td>0</td>\n",
       "    </tr>\n",
       "    <tr>\n",
       "      <th>3</th>\n",
       "      <td>3</td>\n",
       "      <td>Travel</td>\n",
       "      <td>https://books.toscrape.com/catalogue/category/...</td>\n",
       "      <td>Vagabonding: An Uncommon Guide to the Art of L...</td>\n",
       "      <td>https://books.toscrape.com/catalogue/vagabondi...</td>\n",
       "      <td>https://books.toscrape.com/media/cache/ca/30/c...</td>\n",
       "      <td>With a new foreword by Tim Ferriss •There’s no...</td>\n",
       "      <td>2</td>\n",
       "      <td>1809259a5a5f1d8d</td>\n",
       "      <td>Books</td>\n",
       "      <td>£</td>\n",
       "      <td>36.94</td>\n",
       "      <td>36.94</td>\n",
       "      <td>0.0</td>\n",
       "      <td>8</td>\n",
       "      <td>0</td>\n",
       "    </tr>\n",
       "    <tr>\n",
       "      <th>4</th>\n",
       "      <td>4</td>\n",
       "      <td>Travel</td>\n",
       "      <td>https://books.toscrape.com/catalogue/category/...</td>\n",
       "      <td>Under the Tuscan Sun</td>\n",
       "      <td>https://books.toscrape.com/catalogue/under-the...</td>\n",
       "      <td>https://books.toscrape.com/media/cache/45/21/4...</td>\n",
       "      <td>A CLASSIC FROM THE BESTSELLING AUTHOR OF UNDER...</td>\n",
       "      <td>3</td>\n",
       "      <td>a94350ee74deaa07</td>\n",
       "      <td>Books</td>\n",
       "      <td>£</td>\n",
       "      <td>37.33</td>\n",
       "      <td>37.33</td>\n",
       "      <td>0.0</td>\n",
       "      <td>7</td>\n",
       "      <td>0</td>\n",
       "    </tr>\n",
       "  </tbody>\n",
       "</table>\n",
       "</div>"
      ],
      "text/plain": [
       "   id categoria                                      url_categoria  \\\n",
       "0   0    Travel  https://books.toscrape.com/catalogue/category/...   \n",
       "1   1    Travel  https://books.toscrape.com/catalogue/category/...   \n",
       "2   2    Travel  https://books.toscrape.com/catalogue/category/...   \n",
       "3   3    Travel  https://books.toscrape.com/catalogue/category/...   \n",
       "4   4    Travel  https://books.toscrape.com/catalogue/category/...   \n",
       "\n",
       "                                              titulo  \\\n",
       "0                            It's Only the Himalayas   \n",
       "1  Full Moon over Noah’s Ark: An Odyssey to Mount...   \n",
       "2  See America: A Celebration of Our National Par...   \n",
       "3  Vagabonding: An Uncommon Guide to the Art of L...   \n",
       "4                               Under the Tuscan Sun   \n",
       "\n",
       "                                          link_livro  \\\n",
       "0  https://books.toscrape.com/catalogue/its-only-...   \n",
       "1  https://books.toscrape.com/catalogue/full-moon...   \n",
       "2  https://books.toscrape.com/catalogue/see-ameri...   \n",
       "3  https://books.toscrape.com/catalogue/vagabondi...   \n",
       "4  https://books.toscrape.com/catalogue/under-the...   \n",
       "\n",
       "                                          url_imagem  \\\n",
       "0  https://books.toscrape.com/media/cache/6d/41/6...   \n",
       "1  https://books.toscrape.com/media/cache/fe/8a/f...   \n",
       "2  https://books.toscrape.com/media/cache/c7/1a/c...   \n",
       "3  https://books.toscrape.com/media/cache/ca/30/c...   \n",
       "4  https://books.toscrape.com/media/cache/45/21/4...   \n",
       "\n",
       "                                   descricao_produto  qtde_estrelas  \\\n",
       "0  “Wherever you go, whatever you do, just . . . ...              2   \n",
       "1  Acclaimed travel writer Rick Antonson sets his...              4   \n",
       "2  To coincide with the 2016 centennial anniversa...              3   \n",
       "3  With a new foreword by Tim Ferriss •There’s no...              2   \n",
       "4  A CLASSIC FROM THE BESTSELLING AUTHOR OF UNDER...              3   \n",
       "\n",
       "                upc tipo_produto moeda  preco_excl_tax  preco_incl_tax  \\\n",
       "0  a22124811bfa8350        Books     £           45.17           45.17   \n",
       "1  ce60436f52c5ee68        Books     £           49.43           49.43   \n",
       "2  f9705c362f070608        Books     £           48.87           48.87   \n",
       "3  1809259a5a5f1d8d        Books     £           36.94           36.94   \n",
       "4  a94350ee74deaa07        Books     £           37.33           37.33   \n",
       "\n",
       "   imposto  disponibilidade_produto  numero_de_reviews  \n",
       "0      0.0                       19                  0  \n",
       "1      0.0                       15                  0  \n",
       "2      0.0                       14                  0  \n",
       "3      0.0                        8                  0  \n",
       "4      0.0                        7                  0  "
      ]
     },
     "execution_count": 12,
     "metadata": {},
     "output_type": "execute_result"
    }
   ],
   "source": [
    "import pandas as pd\n",
    "import os\n",
    "import joblib\n",
    "from sklearn.preprocessing import LabelEncoder\n",
    "from sklearn.model_selection import train_test_split\n",
    "from sklearn.linear_model import LogisticRegression\n",
    "\n",
    "# Carregando o arquivo CSV\n",
    "path_csv = os.path.join(os.path.dirname(os.getcwd()), 'data', 'books_dataset.csv')\n",
    "df_livros = pd.read_csv(path_csv, sep=\";\", encoding=\"utf-8\")\n",
    "\n",
    "# Inspecionar se os dados foram carregados corretamente\n",
    "df_livros.head()"
   ]
  },
  {
   "cell_type": "markdown",
   "id": "9c9fbfb2",
   "metadata": {},
   "source": [
    "## 2 - Análise exploratória"
   ]
  },
  {
   "cell_type": "code",
   "execution_count": 13,
   "id": "84b34a75",
   "metadata": {},
   "outputs": [
    {
     "name": "stdout",
     "output_type": "stream",
     "text": [
      "<class 'pandas.core.frame.DataFrame'>\n",
      "RangeIndex: 1000 entries, 0 to 999\n",
      "Data columns (total 16 columns):\n",
      " #   Column                   Non-Null Count  Dtype  \n",
      "---  ------                   --------------  -----  \n",
      " 0   id                       1000 non-null   int64  \n",
      " 1   categoria                1000 non-null   object \n",
      " 2   url_categoria            1000 non-null   object \n",
      " 3   titulo                   1000 non-null   object \n",
      " 4   link_livro               1000 non-null   object \n",
      " 5   url_imagem               1000 non-null   object \n",
      " 6   descricao_produto        1000 non-null   object \n",
      " 7   qtde_estrelas            1000 non-null   int64  \n",
      " 8   upc                      1000 non-null   object \n",
      " 9   tipo_produto             1000 non-null   object \n",
      " 10  moeda                    1000 non-null   object \n",
      " 11  preco_excl_tax           1000 non-null   float64\n",
      " 12  preco_incl_tax           1000 non-null   float64\n",
      " 13  imposto                  1000 non-null   float64\n",
      " 14  disponibilidade_produto  1000 non-null   int64  \n",
      " 15  numero_de_reviews        1000 non-null   int64  \n",
      "dtypes: float64(3), int64(4), object(9)\n",
      "memory usage: 125.1+ KB\n"
     ]
    }
   ],
   "source": [
    "# Informações sobre o DataFrame\n",
    "df_livros.info()"
   ]
  },
  {
   "cell_type": "code",
   "execution_count": 14,
   "id": "eddd694f",
   "metadata": {},
   "outputs": [
    {
     "data": {
      "application/vnd.microsoft.datawrangler.viewer.v0+json": {
       "columns": [
        {
         "name": "index",
         "rawType": "object",
         "type": "string"
        },
        {
         "name": "id",
         "rawType": "float64",
         "type": "float"
        },
        {
         "name": "qtde_estrelas",
         "rawType": "float64",
         "type": "float"
        },
        {
         "name": "preco_excl_tax",
         "rawType": "float64",
         "type": "float"
        },
        {
         "name": "preco_incl_tax",
         "rawType": "float64",
         "type": "float"
        },
        {
         "name": "imposto",
         "rawType": "float64",
         "type": "float"
        },
        {
         "name": "disponibilidade_produto",
         "rawType": "float64",
         "type": "float"
        },
        {
         "name": "numero_de_reviews",
         "rawType": "float64",
         "type": "float"
        }
       ],
       "ref": "ba5b1680-2abe-431e-bc73-fbf5118d6489",
       "rows": [
        [
         "count",
         "1000.0",
         "1000.0",
         "1000.0",
         "1000.0",
         "1000.0",
         "1000.0",
         "1000.0"
        ],
        [
         "mean",
         "499.5",
         "2.923",
         "35.07035",
         "35.07035",
         "0.0",
         "8.585",
         "0.0"
        ],
        [
         "std",
         "288.8194360957494",
         "1.434966943915479",
         "14.446689669952764",
         "14.446689669952764",
         "0.0",
         "5.654621981153979",
         "0.0"
        ],
        [
         "min",
         "0.0",
         "1.0",
         "10.0",
         "10.0",
         "0.0",
         "1.0",
         "0.0"
        ],
        [
         "25%",
         "249.75",
         "2.0",
         "22.1075",
         "22.1075",
         "0.0",
         "3.0",
         "0.0"
        ],
        [
         "50%",
         "499.5",
         "3.0",
         "35.980000000000004",
         "35.980000000000004",
         "0.0",
         "7.0",
         "0.0"
        ],
        [
         "75%",
         "749.25",
         "4.0",
         "47.457499999999996",
         "47.457499999999996",
         "0.0",
         "14.0",
         "0.0"
        ],
        [
         "max",
         "999.0",
         "5.0",
         "59.99",
         "59.99",
         "0.0",
         "22.0",
         "0.0"
        ]
       ],
       "shape": {
        "columns": 7,
        "rows": 8
       }
      },
      "text/html": [
       "<div>\n",
       "<style scoped>\n",
       "    .dataframe tbody tr th:only-of-type {\n",
       "        vertical-align: middle;\n",
       "    }\n",
       "\n",
       "    .dataframe tbody tr th {\n",
       "        vertical-align: top;\n",
       "    }\n",
       "\n",
       "    .dataframe thead th {\n",
       "        text-align: right;\n",
       "    }\n",
       "</style>\n",
       "<table border=\"1\" class=\"dataframe\">\n",
       "  <thead>\n",
       "    <tr style=\"text-align: right;\">\n",
       "      <th></th>\n",
       "      <th>id</th>\n",
       "      <th>qtde_estrelas</th>\n",
       "      <th>preco_excl_tax</th>\n",
       "      <th>preco_incl_tax</th>\n",
       "      <th>imposto</th>\n",
       "      <th>disponibilidade_produto</th>\n",
       "      <th>numero_de_reviews</th>\n",
       "    </tr>\n",
       "  </thead>\n",
       "  <tbody>\n",
       "    <tr>\n",
       "      <th>count</th>\n",
       "      <td>1000.000000</td>\n",
       "      <td>1000.000000</td>\n",
       "      <td>1000.00000</td>\n",
       "      <td>1000.00000</td>\n",
       "      <td>1000.0</td>\n",
       "      <td>1000.000000</td>\n",
       "      <td>1000.0</td>\n",
       "    </tr>\n",
       "    <tr>\n",
       "      <th>mean</th>\n",
       "      <td>499.500000</td>\n",
       "      <td>2.923000</td>\n",
       "      <td>35.07035</td>\n",
       "      <td>35.07035</td>\n",
       "      <td>0.0</td>\n",
       "      <td>8.585000</td>\n",
       "      <td>0.0</td>\n",
       "    </tr>\n",
       "    <tr>\n",
       "      <th>std</th>\n",
       "      <td>288.819436</td>\n",
       "      <td>1.434967</td>\n",
       "      <td>14.44669</td>\n",
       "      <td>14.44669</td>\n",
       "      <td>0.0</td>\n",
       "      <td>5.654622</td>\n",
       "      <td>0.0</td>\n",
       "    </tr>\n",
       "    <tr>\n",
       "      <th>min</th>\n",
       "      <td>0.000000</td>\n",
       "      <td>1.000000</td>\n",
       "      <td>10.00000</td>\n",
       "      <td>10.00000</td>\n",
       "      <td>0.0</td>\n",
       "      <td>1.000000</td>\n",
       "      <td>0.0</td>\n",
       "    </tr>\n",
       "    <tr>\n",
       "      <th>25%</th>\n",
       "      <td>249.750000</td>\n",
       "      <td>2.000000</td>\n",
       "      <td>22.10750</td>\n",
       "      <td>22.10750</td>\n",
       "      <td>0.0</td>\n",
       "      <td>3.000000</td>\n",
       "      <td>0.0</td>\n",
       "    </tr>\n",
       "    <tr>\n",
       "      <th>50%</th>\n",
       "      <td>499.500000</td>\n",
       "      <td>3.000000</td>\n",
       "      <td>35.98000</td>\n",
       "      <td>35.98000</td>\n",
       "      <td>0.0</td>\n",
       "      <td>7.000000</td>\n",
       "      <td>0.0</td>\n",
       "    </tr>\n",
       "    <tr>\n",
       "      <th>75%</th>\n",
       "      <td>749.250000</td>\n",
       "      <td>4.000000</td>\n",
       "      <td>47.45750</td>\n",
       "      <td>47.45750</td>\n",
       "      <td>0.0</td>\n",
       "      <td>14.000000</td>\n",
       "      <td>0.0</td>\n",
       "    </tr>\n",
       "    <tr>\n",
       "      <th>max</th>\n",
       "      <td>999.000000</td>\n",
       "      <td>5.000000</td>\n",
       "      <td>59.99000</td>\n",
       "      <td>59.99000</td>\n",
       "      <td>0.0</td>\n",
       "      <td>22.000000</td>\n",
       "      <td>0.0</td>\n",
       "    </tr>\n",
       "  </tbody>\n",
       "</table>\n",
       "</div>"
      ],
      "text/plain": [
       "                id  qtde_estrelas  preco_excl_tax  preco_incl_tax  imposto  \\\n",
       "count  1000.000000    1000.000000      1000.00000      1000.00000   1000.0   \n",
       "mean    499.500000       2.923000        35.07035        35.07035      0.0   \n",
       "std     288.819436       1.434967        14.44669        14.44669      0.0   \n",
       "min       0.000000       1.000000        10.00000        10.00000      0.0   \n",
       "25%     249.750000       2.000000        22.10750        22.10750      0.0   \n",
       "50%     499.500000       3.000000        35.98000        35.98000      0.0   \n",
       "75%     749.250000       4.000000        47.45750        47.45750      0.0   \n",
       "max     999.000000       5.000000        59.99000        59.99000      0.0   \n",
       "\n",
       "       disponibilidade_produto  numero_de_reviews  \n",
       "count              1000.000000             1000.0  \n",
       "mean                  8.585000                0.0  \n",
       "std                   5.654622                0.0  \n",
       "min                   1.000000                0.0  \n",
       "25%                   3.000000                0.0  \n",
       "50%                   7.000000                0.0  \n",
       "75%                  14.000000                0.0  \n",
       "max                  22.000000                0.0  "
      ]
     },
     "execution_count": 14,
     "metadata": {},
     "output_type": "execute_result"
    }
   ],
   "source": [
    "# Estatísticas descritivas do DataFrame\n",
    "df_livros.describe()"
   ]
  },
  {
   "cell_type": "markdown",
   "id": "ea153625",
   "metadata": {},
   "source": [
    "**Diagnóstico da inspeção:**\n",
    "As variáveis numéricas: `id`, `preco_excl_tax`, `imposto` e `numero_de_reviews` foram descartadas por não apresentar variabilidade e assim contribuirem muito pouco para a modelagem.\n",
    "O restante das variáveis não tem aplicação para o escopo da proposta, com exceção da variável `categoria`, que será nossa dependente.\n",
    "\n",
    "Variáveis que serão utilizadas:\n",
    "- `qtde_estrelas`,\n",
    "- `preco_incl_tax`,\n",
    "- `disponibilidade_produto`,\n",
    "- `categoria`"
   ]
  },
  {
   "cell_type": "markdown",
   "id": "a3bf3838",
   "metadata": {},
   "source": [
    "## 3 - Preparação dos dados"
   ]
  },
  {
   "cell_type": "code",
   "execution_count": 15,
   "id": "9c73d3ae",
   "metadata": {},
   "outputs": [],
   "source": [
    "# Filtrando as colunas relevantes\n",
    "features = [\"qtde_estrelas\", \"preco_incl_tax\", \"disponibilidade_produto\"]\n",
    "target = \"categoria\"\n",
    "\n",
    "df_ml = df_livros[features + [target]]"
   ]
  },
  {
   "cell_type": "code",
   "execution_count": 16,
   "id": "b8560b0e",
   "metadata": {},
   "outputs": [
    {
     "name": "stderr",
     "output_type": "stream",
     "text": [
      "C:\\Users\\rapha\\AppData\\Local\\Temp\\ipykernel_1080\\2510254567.py:3: SettingWithCopyWarning: \n",
      "A value is trying to be set on a copy of a slice from a DataFrame.\n",
      "Try using .loc[row_indexer,col_indexer] = value instead\n",
      "\n",
      "See the caveats in the documentation: https://pandas.pydata.org/pandas-docs/stable/user_guide/indexing.html#returning-a-view-versus-a-copy\n",
      "  df_ml[target] = encoder.fit_transform(df_ml[target])\n"
     ]
    },
    {
     "data": {
      "text/plain": [
       "['c:\\\\Users\\\\rapha\\\\OneDrive\\\\Documentos\\\\CURSOS\\\\FIAP - Machine Learning Engineering\\\\Fase 01\\\\Tech Challenge\\\\projeto_api_consulta_livros\\\\projeto\\\\models\\\\encoder.pkl']"
      ]
     },
     "execution_count": 16,
     "metadata": {},
     "output_type": "execute_result"
    }
   ],
   "source": [
    "# Transformando a variável categórica 'categoria' em numérica\n",
    "encoder = LabelEncoder()\n",
    "df_ml[target] = encoder.fit_transform(df_ml[target])\n",
    "\n",
    "# Verifica as primeiras linhas após a transformação\n",
    "df_ml.head()\n",
    "\n",
    "# Salvando o encoder para uso futuro\n",
    "path_encoder = os.path.join(os.path.dirname(os.getcwd()), 'models', 'encoder.pkl')\n",
    "joblib.dump(encoder, path_encoder)"
   ]
  },
  {
   "cell_type": "code",
   "execution_count": 17,
   "id": "ffdc4ffb",
   "metadata": {},
   "outputs": [
    {
     "data": {
      "text/plain": [
       "((700, 3), (300, 3), (700,), (300,))"
      ]
     },
     "execution_count": 17,
     "metadata": {},
     "output_type": "execute_result"
    }
   ],
   "source": [
    "# Separar X e y\n",
    "X = df_ml[features]\n",
    "y = df_ml[target]\n",
    "\n",
    "# Dividir em conjunto de treino e teste\n",
    "X_train, X_test, y_train, y_test = train_test_split(\n",
    "    X, y, test_size=0.3, random_state=42\n",
    ")\n",
    "X_train.shape, X_test.shape, y_train.shape, y_test.shape"
   ]
  },
  {
   "cell_type": "markdown",
   "id": "8092eb58",
   "metadata": {},
   "source": [
    "## 4 - Treinamento do Modelo"
   ]
  },
  {
   "cell_type": "code",
   "execution_count": 18,
   "id": "e523e66a",
   "metadata": {},
   "outputs": [
    {
     "name": "stdout",
     "output_type": "stream",
     "text": [
      "Acurácia do modelo é: 0.16\n"
     ]
    }
   ],
   "source": [
    "# Treinando um modelo de regressão logística\n",
    "model = LogisticRegression(max_iter=10000)\n",
    "model.fit(X_train, y_train)\n",
    "\n",
    "\n",
    "# Métricas de avaliação\n",
    "score = model.score(X_test, y_test)\n",
    "print(f\"Acurácia do modelo é: {score:.2f}\")"
   ]
  },
  {
   "cell_type": "code",
   "execution_count": 19,
   "id": "a54076f6",
   "metadata": {},
   "outputs": [
    {
     "name": "stdout",
     "output_type": "stream",
     "text": [
      "Modelo salvo em modelo_bookscrape.pkl\n"
     ]
    }
   ],
   "source": [
    "# Salvando o modelo treinado\n",
    "path_model = os.path.join(os.path.dirname(os.getcwd()), 'models', 'modelo_bookscrape.pkl')\n",
    "joblib.dump(model, path_model)\n",
    "print(\"Modelo salvo em modelo_bookscrape.pkl\")"
   ]
  }
 ],
 "metadata": {
  "kernelspec": {
   "display_name": "venv",
   "language": "python",
   "name": "python3"
  },
  "language_info": {
   "codemirror_mode": {
    "name": "ipython",
    "version": 3
   },
   "file_extension": ".py",
   "mimetype": "text/x-python",
   "name": "python",
   "nbconvert_exporter": "python",
   "pygments_lexer": "ipython3",
   "version": "3.13.4"
  }
 },
 "nbformat": 4,
 "nbformat_minor": 5
}
